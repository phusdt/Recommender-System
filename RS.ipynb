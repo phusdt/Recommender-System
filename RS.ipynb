{
 "cells": [
  {
   "cell_type": "code",
   "execution_count": 15,
   "metadata": {},
   "outputs": [],
   "source": [
    "from collaborative_filtering import CF \n",
    "import demographic_filtering\n",
    "from perceptron import Perceptron as pct\n",
    "from get_data import (\n",
    "    get_user_data,\n",
    "    get_rating_base_data,\n",
    "    get_rating_test_data,\n",
    ")\n",
    "import numpy as np"
   ]
  },
  {
   "cell_type": "code",
   "execution_count": 16,
   "metadata": {},
   "outputs": [
    {
     "ename": "TypeError",
     "evalue": "'DF' object is not callable",
     "output_type": "error",
     "traceback": [
      "\u001b[0;31m---------------------------------------------------------------------------\u001b[0m",
      "\u001b[0;31mTypeError\u001b[0m                                 Traceback (most recent call last)",
      "\u001b[0;32m<ipython-input-16-73f76fdea0c6>\u001b[0m in \u001b[0;36m<module>\u001b[0;34m()\u001b[0m\n\u001b[1;32m      1\u001b[0m \u001b[0;34m\u001b[0m\u001b[0m\n\u001b[1;32m      2\u001b[0m \u001b[0mUSERS\u001b[0m \u001b[0;34m=\u001b[0m \u001b[0mget_user_data\u001b[0m\u001b[0;34m(\u001b[0m\u001b[0;34m)\u001b[0m\u001b[0;34m\u001b[0m\u001b[0;34m\u001b[0m\u001b[0m\n\u001b[0;32m----> 3\u001b[0;31m \u001b[0mDF\u001b[0m \u001b[0;34m=\u001b[0m \u001b[0mdemographic_filtering\u001b[0m\u001b[0;34m.\u001b[0m\u001b[0mDF\u001b[0m\u001b[0;34m(\u001b[0m\u001b[0mUSERS\u001b[0m\u001b[0;34m,\u001b[0m \u001b[0mRATE_TRAIN\u001b[0m\u001b[0;34m,\u001b[0m \u001b[0;36m25\u001b[0m\u001b[0;34m)\u001b[0m\u001b[0;34m\u001b[0m\u001b[0;34m\u001b[0m\u001b[0m\n\u001b[0m",
      "\u001b[0;31mTypeError\u001b[0m: 'DF' object is not callable"
     ]
    }
   ],
   "source": [
    "\n",
    "USERS = get_user_data()\n",
    "DF = demographic_filtering.DF(USERS, RATE_TRAIN, 25)"
   ]
  },
  {
   "cell_type": "code",
   "execution_count": 4,
   "metadata": {},
   "outputs": [
    {
     "name": "stdout",
     "output_type": "stream",
     "text": [
      "Similar Matrix Works\n",
      "[[ 1.   -0.08  0.01 ... -0.08  0.03 -0.06]\n",
      " [-0.08  1.    0.05 ... -0.11  0.    0.22]\n",
      " [ 0.01  0.05  1.   ... -0.01 -0.04  0.05]\n",
      " ...\n",
      " [-0.08 -0.11 -0.01 ...  1.    0.   -0.18]\n",
      " [ 0.03  0.   -0.04 ...  0.    1.    0.  ]\n",
      " [-0.06  0.22  0.05 ... -0.18  0.    1.  ]]\n",
      "Number of rows:  943\n",
      "Number of columns:  943\n",
      "Items which user 1 actually like:  [  0   1   8  21  25  29  31  37  39  67  74  88  92  98 118 132 134 135\n",
      " 140 143 145 146 157 165 172 175 178 180 186 193 196 204 210 219 233 238\n",
      " 245 248 255 256 267 268 269]\n",
      "Items in prediction which user 1 might like  [0, 1, 7, 8, 20, 21, 25, 29, 31, 33, 36, 37, 39, 62, 67, 74, 88, 92, 98, 104, 118, 130, 132, 134, 135, 137, 140, 143, 145, 146, 157, 165, 172, 175, 178, 180, 186, 193, 196, 204, 210, 219, 233, 236, 238, 245, 248, 255, 256, 267, 268, 269, 270]\n",
      "The accuracy of Collaborative Filtering: 14963/16558 \n"
     ]
    }
   ],
   "source": [
    "# CF \n",
    "RATE_TRAIN = get_rating_base_data().values # convert to matrix\n",
    "RATE_TEST = get_rating_test_data().values # convert to matrix\n",
    "\n",
    "RATE_TRAIN[:, :2] -= 1 # start from 0\n",
    "RATE_TEST[:, :2] -= 1\n",
    "\n",
    "CF = CF(RATE_TRAIN, k=25)\n",
    "CF.fit()\n",
    "\n",
    "print('Similar Matrix Works')\n",
    "print(CF.S)\n",
    "print('Number of rows: ', CF.S.shape[0])\n",
    "print('Number of columns: ', CF.S.shape[1])\n",
    "\n",
    "ids = np.where(RATE_TEST[:, 0] == 0)[0].astype('int32')\n",
    "real_items_1 = RATE_TEST[(np.where((RATE_TEST[:, 0] == 0) & (RATE_TEST[:, 2] >= 3)))]\n",
    "predicted_items = []\n",
    "\n",
    "for row in RATE_TEST[ids, :]:\n",
    "    predicted_rating = CF.pred(0, row[1])\n",
    "    if predicted_rating >= 3:\n",
    "        predicted_items.append(row[1])\n",
    "\n",
    "print('Items which user 1 actually like: ', real_items_1[:, 1])\n",
    "print('Items in prediction which user 1 might like ', predicted_items)\n",
    "\n",
    "\n",
    "n_test = RATE_TEST.shape[0]\n",
    "correct_items_count = 0\n",
    "real_items_user_like_count = len(np.where(RATE_TEST[:, 2] >= 3)[0].astype(np.int32))\n",
    "\n",
    "user_id = 0\n",
    "while user_id < CF.n_users:\n",
    "    ids = np.where(RATE_TEST[:, 0] == user_id)[0].astype('int32')\n",
    "    real_items = RATE_TEST[(np.where((RATE_TEST[:, 0] == user_id) & (RATE_TEST[:, 2] >= 3)))]\n",
    "    for row in RATE_TEST[ids, :]:\n",
    "        predicted_rating = CF.pred(user_id, row[1])\n",
    "        if predicted_rating >= 3 and row[1] in real_items:\n",
    "            correct_items_count += 1\n",
    "    user_id += 1\n",
    "accuracy = correct_items_count/real_items_user_like_count\n",
    "print('The accuracy of Collaborative Filtering: {0}/{1} = {2}'.format(correct_items_count, real_items_user_like_count, accuracy))"
   ]
  },
  {
   "cell_type": "code",
   "execution_count": 9,
   "metadata": {},
   "outputs": [
    {
     "ename": "TypeError",
     "evalue": "'DF' object is not callable",
     "output_type": "error",
     "traceback": [
      "\u001b[0;31m---------------------------------------------------------------------------\u001b[0m",
      "\u001b[0;31mTypeError\u001b[0m                                 Traceback (most recent call last)",
      "\u001b[0;32m<ipython-input-9-e1cff48f4a07>\u001b[0m in \u001b[0;36m<module>\u001b[0;34m()\u001b[0m\n\u001b[1;32m      8\u001b[0m \u001b[0mRATE_TEST\u001b[0m\u001b[0;34m[\u001b[0m\u001b[0;34m:\u001b[0m\u001b[0;34m,\u001b[0m \u001b[0;34m:\u001b[0m\u001b[0;36m2\u001b[0m\u001b[0;34m]\u001b[0m \u001b[0;34m-=\u001b[0m \u001b[0;36m1\u001b[0m  \u001b[0;31m# start from 0\u001b[0m\u001b[0;34m\u001b[0m\u001b[0;34m\u001b[0m\u001b[0m\n\u001b[1;32m      9\u001b[0m \u001b[0;34m\u001b[0m\u001b[0m\n\u001b[0;32m---> 10\u001b[0;31m \u001b[0mDF\u001b[0m \u001b[0;34m=\u001b[0m \u001b[0mDF\u001b[0m\u001b[0;34m(\u001b[0m\u001b[0mUSERS\u001b[0m\u001b[0;34m,\u001b[0m \u001b[0mRATE_TRAIN\u001b[0m\u001b[0;34m,\u001b[0m \u001b[0;36m25\u001b[0m\u001b[0;34m)\u001b[0m\u001b[0;34m\u001b[0m\u001b[0;34m\u001b[0m\u001b[0m\n\u001b[0m\u001b[1;32m     11\u001b[0m \u001b[0mDF\u001b[0m\u001b[0;34m.\u001b[0m\u001b[0mfit\u001b[0m\u001b[0;34m(\u001b[0m\u001b[0;34m)\u001b[0m\u001b[0;34m\u001b[0m\u001b[0;34m\u001b[0m\u001b[0m\n\u001b[1;32m     12\u001b[0m \u001b[0;34m\u001b[0m\u001b[0m\n",
      "\u001b[0;31mTypeError\u001b[0m: 'DF' object is not callable"
     ]
    }
   ],
   "source": [
    "# DF\n",
    "USERS = get_user_data()\n",
    "DF = DF(USERS, RATE_TRAIN, 25)\n",
    "DF.fit()\n",
    "\n",
    "print(\"Ma trận tương đồng thông tin\")\n",
    "print(DF.similarities)\n",
    "print(\"Số hàng của ma trận:\", DF.similarities.shape[0])\n",
    "print(\"Số cột của ma trận: \", DF.similarities.shape[1])\n",
    "\n",
    "ids = np.where(RATE_TEST[:, 0] == 0)[0].astype(\"int32\")\n",
    "real_items_1 = RATE_TEST[(np.where((RATE_TEST[:, 0] == 0) & (RATE_TEST[:, 2] >= 3)))]\n",
    "correct_predicted_items = []\n",
    "\n",
    "for row in RATE_TEST[ids, :]:\n",
    "    predicted_rating = DF.pred(0, row[1])\n",
    "    if predicted_rating >= 3 and row[1] in real_items_1:\n",
    "        correct_predicted_items.append(row[1])\n",
    "\n",
    "\n",
    "print(\"Những items user 1 thật sự thích       : \", real_items_1[:, 1])\n",
    "print(\"Những items user 1 được dự đoán thích  : \", correct_predicted_items)\n",
    "\n",
    "n_test = RATE_TEST.shape[0]\n",
    "correct_items_count = 0\n",
    "real_items_user_like_count = len(np.where(RATE_TEST[:, 2] >= 3)[0].astype(np.int32))\n",
    "\n",
    "user_id = 0\n",
    "while user_id < DF.n_users:\n",
    "    ids = np.where(RATE_TEST[:, 0] == user_id)[0].astype(\"int32\")\n",
    "    real_items = RATE_TEST[(np.where((RATE_TEST[:, 0] == user_id) & (RATE_TEST[:, 2] >= 3)))]\n",
    "    for row in RATE_TEST[ids, :]:\n",
    "        predicted_rating = DF.pred(user_id, row[1])\n",
    "        if predicted_rating >= 3 and row[1] in real_items:\n",
    "            correct_items_count = correct_items_count + 1\n",
    "    user_id = user_id + 1\n",
    "\n",
    "print(\"Độ chính xác của Demographic Filtering :\", correct_items_count / real_items_user_like_count)"
   ]
  },
  {
   "cell_type": "code",
   "execution_count": null,
   "metadata": {},
   "outputs": [],
   "source": [
    "# Perceptron\n",
    "ids = np.where(RATE_TEST[:, 0] == 0)[0].astype(\"int32\")\n",
    "\n",
    "MATRIX_DF = []\n",
    "MATRIX_CF = []\n",
    "\n",
    "for row in RATE_TEST[ids, :]:\n",
    "    p_cf = CF.pred(0, row[1])\n",
    "    p_df = DF.pred(0, row[2])\n",
    "    MATRIX_CF.append([0, row[1], p_cf])\n",
    "    MATRIX_DF.append([0, row[1], p_df])\n",
    "MATRIX_CF = np.asarray(MATRIX_CF)\n",
    "MATRIX_DF = np.asarray(MATRIX_DF)\n",
    "\n",
    "CF_predicted = np.asanyarray(MATRIX_CF[:, 2])\n",
    "DF_predicted = MATRIX_DF[:, 2]\n",
    "true_rating = RATE_TEST[ids, 2]\n",
    "\n",
    "dataset = np.c_[CF_predicted, DF_predicted, true_rating]\n",
    "\n",
    "# print(\"Ma trận dự đoán đánh giá CF, DF, True Rating\")\n",
    "# print(dataset)\n",
    "\n",
    "PLA = Perceptron(dataset, 0.003, len(ids))\n",
    "PLA.fit()\n",
    "predicted_ratings_pla = PLA.predict()\n",
    "\n",
    "print(\"Dự đoán đánh giá sau khi được điều chỉnh\")\n",
    "print(np.round(predicted_ratings_pla, 3))\n"
   ]
  }
 ],
 "metadata": {
  "kernelspec": {
   "display_name": "Python 3",
   "language": "python",
   "name": "python3"
  },
  "language_info": {
   "codemirror_mode": {
    "name": "ipython",
    "version": 3
   },
   "file_extension": ".py",
   "mimetype": "text/x-python",
   "name": "python",
   "nbconvert_exporter": "python",
   "pygments_lexer": "ipython3",
   "version": "3.7.6"
  }
 },
 "nbformat": 4,
 "nbformat_minor": 4
}
