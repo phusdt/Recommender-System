{
 "cells": [
  {
   "cell_type": "code",
   "execution_count": 8,
   "metadata": {},
   "outputs": [],
   "source": [
    "from collaborative_filtering import CF \n",
    "from demographic_filtering import DF\n",
    "from perceptron import Perceptron as pct\n",
    "from get_data import (\n",
    "    get_users_data,\n",
    "    get_rating_base_data,\n",
    "    get_rating_test_data,\n",
    ")\n",
    "import numpy as np"
   ]
  },
  {
   "cell_type": "code",
   "execution_count": 22,
   "metadata": {},
   "outputs": [
    {
     "data": {
      "text/plain": [
       "array([[        0,         2,         4, 878542960],\n",
       "       [        0,         3,         3, 876893119],\n",
       "       [        0,         4,         3, 889751712],\n",
       "       ...,\n",
       "       [      942,      1187,         3, 888640250],\n",
       "       [      942,      1227,         3, 888640275],\n",
       "       [      942,      1329,         3, 888692465]])"
      ]
     },
     "execution_count": 22,
     "metadata": {},
     "output_type": "execute_result"
    }
   ],
   "source": [
    "RATE_TRAIN = get_rating_base_data().values # convert to matrix\n",
    "RATE_TRAIN[:, :2] -= 1 # start from 0\n",
    "\n",
    "RATE_TRAIN"
   ]
  },
  {
   "cell_type": "code",
   "execution_count": 5,
   "metadata": {},
   "outputs": [
    {
     "name": "stdout",
     "output_type": "stream",
     "text": [
      "Similar Matrix Works\n",
      "[[ 1.   -0.08  0.01 ... -0.08  0.03 -0.06]\n",
      " [-0.08  1.    0.05 ... -0.11  0.    0.22]\n",
      " [ 0.01  0.05  1.   ... -0.01 -0.04  0.05]\n",
      " ...\n",
      " [-0.08 -0.11 -0.01 ...  1.    0.   -0.18]\n",
      " [ 0.03  0.   -0.04 ...  0.    1.    0.  ]\n",
      " [-0.06  0.22  0.05 ... -0.18  0.    1.  ]]\n",
      "Number of rows:  943\n",
      "Number of columns:  943\n",
      "Items which user 1 actually like:  [  0   1   8  21  25  29  31  37  39  67  74  88  92  98 118 132 134 135\n",
      " 140 143 145 146 157 165 172 175 178 180 186 193 196 204 210 219 233 238\n",
      " 245 248 255 256 267 268 269]\n",
      "Items in prediction which user 1 might like  [0, 1, 7, 8, 20, 21, 25, 29, 31, 33, 36, 37, 39, 62, 67, 74, 88, 92, 98, 104, 118, 130, 132, 134, 135, 137, 140, 143, 145, 146, 157, 165, 172, 175, 178, 180, 186, 193, 196, 204, 210, 219, 233, 236, 238, 245, 248, 255, 256, 267, 268, 269, 270]\n",
      "The accuracy of Collaborative Filtering: 14963/16558 = 0.903671941055683\n"
     ]
    }
   ],
   "source": [
    "# CF \n",
    "RATE_TRAIN = get_rating_base_data().values # convert to matrix\n",
    "RATE_TEST = get_rating_test_data().values # convert to matrix\n",
    "\n",
    "RATE_TRAIN[:, :2] -= 1 # start from 0\n",
    "RATE_TEST[:, :2] -= 1\n",
    "\n",
    "CF = CF(RATE_TRAIN, k=25)\n",
    "CF.fit()\n",
    "\n",
    "print('Similar Matrix Works')\n",
    "print(CF.S)\n",
    "print('Number of rows: ', CF.S.shape[0])\n",
    "print('Number of columns: ', CF.S.shape[1])\n",
    "\n",
    "ids = np.where(RATE_TEST[:, 0] == 0)[0].astype('int32')\n",
    "real_items_1 = RATE_TEST[(np.where((RATE_TEST[:, 0] == 0) & (RATE_TEST[:, 2] >= 3)))]\n",
    "predicted_items = []\n",
    "\n",
    "for row in RATE_TEST[ids, :]:\n",
    "    predicted_rating = CF.pred(0, row[1])\n",
    "    if predicted_rating >= 3:\n",
    "        predicted_items.append(row[1])\n",
    "\n",
    "print('Items which user 1 actually like: ', real_items_1[:, 1])\n",
    "print('Items in prediction which user 1 might like ', predicted_items)\n",
    "\n",
    "\n",
    "n_test = RATE_TEST.shape[0]\n",
    "correct_items_count = 0\n",
    "real_items_user_like_count = len(np.where(RATE_TEST[:, 2] >= 3)[0].astype(np.int32))\n",
    "\n",
    "user_id = 0\n",
    "while user_id < CF.n_users:\n",
    "    ids = np.where(RATE_TEST[:, 0] == user_id)[0].astype('int32')\n",
    "    real_items = RATE_TEST[(np.where((RATE_TEST[:, 0] == user_id) & (RATE_TEST[:, 2] >= 3)))]\n",
    "    for row in RATE_TEST[ids, :]:\n",
    "        predicted_rating = CF.pred(user_id, row[1])\n",
    "        if predicted_rating >= 3 and row[1] in real_items:\n",
    "            correct_items_count += 1\n",
    "    user_id += 1\n",
    "accuracy = correct_items_count/real_items_user_like_count\n",
    "print('The accuracy of Collaborative Filtering: {0}/{1} = {2}'.format(correct_items_count, real_items_user_like_count, accuracy))"
   ]
  },
  {
   "cell_type": "code",
   "execution_count": 9,
   "metadata": {},
   "outputs": [
    {
     "name": "stdout",
     "output_type": "stream",
     "text": [
      "Ma trận tương đồng thông tin\n",
      "[[1.         0.         0.66666667 ... 0.66666667 0.         0.66666667]\n",
      " [0.         1.         0.         ... 0.         0.33333333 0.        ]\n",
      " [0.66666667 0.         1.         ... 0.66666667 0.         0.66666667]\n",
      " ...\n",
      " [0.66666667 0.         0.66666667 ... 1.         0.         1.        ]\n",
      " [0.         0.33333333 0.         ... 0.         1.         0.        ]\n",
      " [0.66666667 0.         0.66666667 ... 1.         0.         1.        ]]\n",
      "Số hàng của ma trận: 943\n",
      "Số cột của ma trận:  943\n",
      "Những items user 1 thật sự thích       :  [  0   1   8  21  25  29  31  37  39  67  74  88  92  98 118 132 134 135\n",
      " 140 143 145 146 157 165 172 175 178 180 186 193 196 204 210 219 233 238\n",
      " 245 248 255 256 267 268 269]\n",
      "Những items user 1 được dự đoán thích  :  [0, 1, 8, 21, 25, 29, 31, 37, 67, 74, 88, 92, 98, 118, 132, 134, 135, 140, 143, 145, 146, 157, 165, 172, 175, 178, 180, 186, 193, 196, 204, 210, 219, 233, 238, 245, 248, 255, 256, 267, 268, 269]\n",
      "Độ chính xác của Demographic Filtering : 0.9023432781736924\n"
     ]
    }
   ],
   "source": [
    "# DF\n",
    "USERS = get_users_data()\n",
    "DF = DF(USERS, RATE_TRAIN, 25)\n",
    "DF.fit()\n",
    "\n",
    "print(\"Ma trận tương đồng thông tin\")\n",
    "print(DF.similarities)\n",
    "print(\"Số hàng của ma trận:\", DF.similarities.shape[0])\n",
    "print(\"Số cột của ma trận: \", DF.similarities.shape[1])\n",
    "\n",
    "ids = np.where(RATE_TEST[:, 0] == 0)[0].astype(\"int32\")\n",
    "real_items_1 = RATE_TEST[(np.where((RATE_TEST[:, 0] == 0) & (RATE_TEST[:, 2] >= 3)))]\n",
    "correct_predicted_items = []\n",
    "\n",
    "for row in RATE_TEST[ids, :]:\n",
    "    predicted_rating = DF.pred(0, row[1])\n",
    "    if predicted_rating >= 3 and row[1] in real_items_1:\n",
    "        correct_predicted_items.append(row[1])\n",
    "\n",
    "\n",
    "print(\"Những items user 1 thật sự thích       : \", real_items_1[:, 1])\n",
    "print(\"Những items user 1 được dự đoán thích  : \", correct_predicted_items)\n",
    "\n",
    "n_test = RATE_TEST.shape[0]\n",
    "correct_items_count = 0\n",
    "real_items_user_like_count = len(np.where(RATE_TEST[:, 2] >= 3)[0].astype(np.int32))\n",
    "\n",
    "user_id = 0\n",
    "while user_id < DF.n_users:\n",
    "    ids = np.where(RATE_TEST[:, 0] == user_id)[0].astype(\"int32\")\n",
    "    real_items = RATE_TEST[(np.where((RATE_TEST[:, 0] == user_id) & (RATE_TEST[:, 2] >= 3)))]\n",
    "    for row in RATE_TEST[ids, :]:\n",
    "        predicted_rating = DF.pred(user_id, row[1])\n",
    "        if predicted_rating >= 3 and row[1] in real_items:\n",
    "            correct_items_count = correct_items_count + 1\n",
    "    user_id = user_id + 1\n",
    "\n",
    "print(\"Độ chính xác của Demographic Filtering :\", correct_items_count / real_items_user_like_count)"
   ]
  },
  {
   "cell_type": "code",
   "execution_count": null,
   "metadata": {},
   "outputs": [],
   "source": [
    "# Perceptron\n",
    "ids = np.where(RATE_TEST[:, 0] == 0)[0].astype(\"int32\")\n",
    "\n",
    "MATRIX_DF = []\n",
    "MATRIX_CF = []\n",
    "\n",
    "for row in RATE_TEST[ids, :]:\n",
    "    p_cf = CF.pred(0, row[1])\n",
    "    p_df = DF.pred(u=0, i=row[2])\n",
    "    MATRIX_CF.append([0, row[1], p_cf])\n",
    "    MATRIX_DF.append([0, row[1], p_df])\n",
    "MATRIX_CF = np.asarray(MATRIX_CF)\n",
    "MATRIX_DF = np.asarray(MATRIX_DF)\n",
    "\n",
    "CF_predicted = np.asanyarray(MATRIX_CF[:, 2])\n",
    "DF_predicted = MATRIX_DF[:, 2]\n",
    "true_rating = RATE_TEST[ids, 2]\n",
    "\n",
    "dataset = np.c_[CF_predicted, DF_predicted, true_rating]\n",
    "\n",
    "# print(\"Ma trận dự đoán đánh giá CF, DF, True Rating\")\n",
    "# print(dataset)\n",
    "\n",
    "PLA = Perceptron(dataset, 0.003, len(ids))\n",
    "PLA.fit()\n",
    "predicted_ratings_pla = PLA.predict()\n",
    "\n",
    "print(\"Dự đoán đánh giá sau khi được điều chỉnh\")\n",
    "print(np.round(predicted_ratings_pla, 3))\n"
   ]
  },
  {
   "cell_type": "code",
   "execution_count": null,
   "metadata": {},
   "outputs": [],
   "source": []
  }
 ],
 "metadata": {
  "kernelspec": {
   "display_name": "Python 3",
   "language": "python",
   "name": "python3"
  },
  "language_info": {
   "codemirror_mode": {
    "name": "ipython",
    "version": 3
   },
   "file_extension": ".py",
   "mimetype": "text/x-python",
   "name": "python",
   "nbconvert_exporter": "python",
   "pygments_lexer": "ipython3",
   "version": "3.7.6"
  }
 },
 "nbformat": 4,
 "nbformat_minor": 4
}
